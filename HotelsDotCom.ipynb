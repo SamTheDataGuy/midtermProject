{
 "cells": [
  {
   "cell_type": "code",
   "execution_count": 1,
   "metadata": {},
   "outputs": [],
   "source": [
    "#Google Places API notebook\n",
    "\n",
    "import pandas as pd\n",
    "import requests\n",
    "import os"
   ]
  },
  {
   "cell_type": "code",
   "execution_count": null,
   "metadata": {},
   "outputs": [],
   "source": [
    "#I updated the code for hotels.com api to show hotels.\n",
    "# we will need to edit regionNames column into \"name of hotel\" and only show name of the hotel name after 'fullname' and before the comma.\n",
    "#\n",
    "#\n",
    "\n",
    "url = \"https://hotels-com-provider.p.rapidapi.com/v2/regions\"\n",
    "querystring = {\"domain\": \"CA\", \"query\": \"Toronto\", \"locale\": \"en_CA\"}\n",
    "\n",
    "headers = {\n",
    "    \"X-RapidAPI-Key\": \"PUT_YOUR_API_KEY_HERE\",\n",
    "    \"X-RapidAPI-Host\": \"hotels-com-provider.p.rapidapi.com\"\n",
    "}\n",
    "\n",
    "response = requests.get(url, headers=headers, params=querystring)\n",
    "data = response.json() \n",
    "\n",
    "hotel_data = data['data']\n",
    "df_hotel = pd.DataFrame(hotel_data)\n",
    "df_hotel = df_hotel[df_hotel['type'] == 'HOTEL']\n",
    "df_hotel.head(25)\n"
   ]
  },
  {
   "cell_type": "code",
   "execution_count": 2,
   "metadata": {},
   "outputs": [
    {
     "data": {
      "text/plain": [
       "'import requests\\n\\nurl = \"https://hotels-com-provider.p.rapidapi.com/v2/domains\"\\n\\nheaders = {\\n\\t\"X-RapidAPI-Key\": \"PUT_YOUR_API_KEY_HERE\",\\n\\t\"X-RapidAPI-Host\": \"hotels-com-provider.p.rapidapi.com\"\\n}\\n\\nresponse = requests.get(url, headers=headers)\\n\\nprint(response.json())'"
      ]
     },
     "execution_count": 2,
     "metadata": {},
     "output_type": "execute_result"
    }
   ],
   "source": [
    "#we're discarding hotels.com api\n",
    "\n",
    "'''import requests\n",
    "\n",
    "url = \"https://hotels-com-provider.p.rapidapi.com/v2/domains\"\n",
    "\n",
    "headers = {\n",
    "\t\"X-RapidAPI-Key\": \"PUT_YOUR_API_KEY_HERE\",\n",
    "\t\"X-RapidAPI-Host\": \"hotels-com-provider.p.rapidapi.com\"\n",
    "}\n",
    "\n",
    "response = requests.get(url, headers=headers)\n",
    "\n",
    "print(response.json())'''"
   ]
  },
  {
   "cell_type": "code",
   "execution_count": 3,
   "metadata": {},
   "outputs": [
    {
     "data": {
      "text/plain": [
       "'#This is from another hotels api, although in the webpage it says the hotels api has prices, i dont see it in the output\\n#this is the link https://rapidapi.com/apidojo/api/hotels4\\n#we\\'re discarding hotels4 api\\nimport requests\\nimport pandas as pd\\nhotels_url = \"https://hotels4.p.rapidapi.com/locations/v3/search\"\\n\\nquerystring = {\"q\":\"toronto\",\"locale\":\"en_US\",\"langid\":\"1033\",\"siteid\":\"300000001\"}\\n\\nheaders = {\\n\\t\"X-RapidAPI-Key\": \"YOUR_API_KEY_HERE\",\\n\\t\"X-RapidAPI-Host\": \"hotels4.p.rapidapi.com\"\\n}\\n\\nresponse = requests.get(url, headers=headers, params=querystring)\\n\\nhotels_data = response.json() \\n# Extract the relevant data from the JSON response\\nresults = hotels_data[\\'sr\\']\\n\\n\\n# Create a DataFrame using the extracted data\\ndf_hotel = pd.DataFrame(results)\\ndf_hotel.head()'"
      ]
     },
     "execution_count": 3,
     "metadata": {},
     "output_type": "execute_result"
    }
   ],
   "source": [
    "'''#This is from another hotels api, although in the webpage it says the hotels api has prices, i dont see it in the output\n",
    "#this is the link https://rapidapi.com/apidojo/api/hotels4\n",
    "#we're discarding hotels4 api\n",
    "import requests\n",
    "import pandas as pd\n",
    "hotels_url = \"https://hotels4.p.rapidapi.com/locations/v3/search\"\n",
    "\n",
    "querystring = {\"q\":\"toronto\",\"locale\":\"en_US\",\"langid\":\"1033\",\"siteid\":\"300000001\"}\n",
    "\n",
    "headers = {\n",
    "\t\"X-RapidAPI-Key\": \"YOUR_API_KEY_HERE\",\n",
    "\t\"X-RapidAPI-Host\": \"hotels4.p.rapidapi.com\"\n",
    "}\n",
    "\n",
    "response = requests.get(url, headers=headers, params=querystring)\n",
    "\n",
    "hotels_data = response.json() \n",
    "# Extract the relevant data from the JSON response\n",
    "results = hotels_data['sr']\n",
    "\n",
    "\n",
    "# Create a DataFrame using the extracted data\n",
    "df_hotel = pd.DataFrame(results)\n",
    "df_hotel.head()'''"
   ]
  },
  {
   "cell_type": "code",
   "execution_count": 4,
   "metadata": {},
   "outputs": [
    {
     "data": {
      "text/plain": [
       "'import requests\\nimport pandas as pd\\nurl = \"https://hotels4.p.rapidapi.com/properties/v2/list\"\\n\\npayload = {\\n\\t\"currency\": \"USD\",\\n\\t\"eapid\": 1,\\n\\t\"locale\": \"en_CA\",\\n\\t\"siteId\": 300000002,\\n\\t\"destination\": { \"regionId\": \"6057934\" },\\n\\t\"checkInDate\": {\\n\\t\\t\"day\": 10,\\n\\t\\t\"month\": 10,\\n\\t\\t\"year\": 2022\\n\\t},\\n\\t\"checkOutDate\": {\\n\\t\\t\"day\": 15,\\n\\t\\t\"month\": 10,\\n\\t\\t\"year\": 2022\\n\\t},\\n\\t\"rooms\": [\\n\\t\\t{\\n\\t\\t\\t\"adults\": 2,\\n\\t\\t\\t\"children\": [{ \"age\": 5 }, { \"age\": 7 }]\\n\\t\\t}\\n\\t],\\n\\t\"resultsStartingIndex\": 0,\\n\\t\"resultsSize\": 200,\\n\\t\"sort\": \"PRICE_LOW_TO_HIGH\",\\n\\t\"filters\": { \"price\": {\\n\\t\\t\\t\"max\": 600,\\n\\t\\t\\t\"min\": 100\\n\\t\\t} }\\n}\\nheaders = {\\n\\t\"content-type\": \"application/json\",\\n\\t\"X-RapidAPI-Key\": \"1c3ba29cffmshd42b6584c248798p17db44jsn309cee1198b7\",\\n\\t\"X-RapidAPI-Host\": \"hotels4.p.rapidapi.com\"\\n}\\n\\n\\nresponse = requests.post(url, json=payload, headers=headers)\\n#print(response.json())\\ndf = pd.DataFrame(response)\\ndf.head()\\n\\n#properties = data.get(\"data\", {}).get(\"body\", {}).get(\"searchResults\", {}).get(\"results\", [])\\n#df = pd.DataFrame(data)\\n#df.head()'"
      ]
     },
     "execution_count": 4,
     "metadata": {},
     "output_type": "execute_result"
    }
   ],
   "source": [
    "#we're discarding hotels4 api\n",
    "\n",
    "'''import requests\n",
    "import pandas as pd\n",
    "url = \"https://hotels4.p.rapidapi.com/properties/v2/list\"\n",
    "\n",
    "payload = {\n",
    "\t\"currency\": \"USD\",\n",
    "\t\"eapid\": 1,\n",
    "\t\"locale\": \"en_CA\",\n",
    "\t\"siteId\": 300000002,\n",
    "\t\"destination\": { \"regionId\": \"6057934\" },\n",
    "\t\"checkInDate\": {\n",
    "\t\t\"day\": 10,\n",
    "\t\t\"month\": 10,\n",
    "\t\t\"year\": 2022\n",
    "\t},\n",
    "\t\"checkOutDate\": {\n",
    "\t\t\"day\": 15,\n",
    "\t\t\"month\": 10,\n",
    "\t\t\"year\": 2022\n",
    "\t},\n",
    "\t\"rooms\": [\n",
    "\t\t{\n",
    "\t\t\t\"adults\": 2,\n",
    "\t\t\t\"children\": [{ \"age\": 5 }, { \"age\": 7 }]\n",
    "\t\t}\n",
    "\t],\n",
    "\t\"resultsStartingIndex\": 0,\n",
    "\t\"resultsSize\": 200,\n",
    "\t\"sort\": \"PRICE_LOW_TO_HIGH\",\n",
    "\t\"filters\": { \"price\": {\n",
    "\t\t\t\"max\": 600,\n",
    "\t\t\t\"min\": 100\n",
    "\t\t} }\n",
    "}\n",
    "headers = {\n",
    "\t\"content-type\": \"application/json\",\n",
    "\t\"X-RapidAPI-Key\": \"1c3ba29cffmshd42b6584c248798p17db44jsn309cee1198b7\",\n",
    "\t\"X-RapidAPI-Host\": \"hotels4.p.rapidapi.com\"\n",
    "}\n",
    "\n",
    "\n",
    "response = requests.post(url, json=payload, headers=headers)\n",
    "#print(response.json())\n",
    "df = pd.DataFrame(response)\n",
    "df.head()\n",
    "\n",
    "#properties = data.get(\"data\", {}).get(\"body\", {}).get(\"searchResults\", {}).get(\"results\", [])\n",
    "#df = pd.DataFrame(data)\n",
    "#df.head()'''"
   ]
  },
  {
   "cell_type": "code",
   "execution_count": 5,
   "metadata": {},
   "outputs": [
    {
     "data": {
      "text/plain": [
       "'import requests\\n\\nurl = \"https://hotels4.p.rapidapi.com/locations/v3/search\"\\n\\nquerystring = {\"q\":\"Toronto\",\"locale\":\"en_CA\",\"langid\":\"1033\",\"siteid\":\"300000002\"}\\n\\nheaders = {\\n\\t\"X-RapidAPI-Key\": \"1c3ba29cffmshd42b6584c248798p17db44jsn309cee1198b7\",\\n\\t\"X-RapidAPI-Host\": \"hotels4.p.rapidapi.com\"\\n}\\n\\nresponse = requests.get(url, headers=headers, params=querystring)\\n\\nprint(response.json())'"
      ]
     },
     "execution_count": 5,
     "metadata": {},
     "output_type": "execute_result"
    }
   ],
   "source": [
    "#we're discarding hotels4 api\n",
    "'''import requests\n",
    "\n",
    "url = \"https://hotels4.p.rapidapi.com/locations/v3/search\"\n",
    "\n",
    "querystring = {\"q\":\"Toronto\",\"locale\":\"en_CA\",\"langid\":\"1033\",\"siteid\":\"300000002\"}\n",
    "\n",
    "headers = {\n",
    "\t\"X-RapidAPI-Key\": \"1c3ba29cffmshd42b6584c248798p17db44jsn309cee1198b7\",\n",
    "\t\"X-RapidAPI-Host\": \"hotels4.p.rapidapi.com\"\n",
    "}\n",
    "\n",
    "response = requests.get(url, headers=headers, params=querystring)\n",
    "\n",
    "print(response.json())'''"
   ]
  },
  {
   "cell_type": "code",
   "execution_count": null,
   "metadata": {},
   "outputs": [],
   "source": []
  }
 ],
 "metadata": {
  "kernelspec": {
   "display_name": "secondEnv",
   "language": "python",
   "name": "python3"
  },
  "language_info": {
   "codemirror_mode": {
    "name": "ipython",
    "version": 3
   },
   "file_extension": ".py",
   "mimetype": "text/x-python",
   "name": "python",
   "nbconvert_exporter": "python",
   "pygments_lexer": "ipython3",
   "version": "3.9.16"
  },
  "orig_nbformat": 4
 },
 "nbformat": 4,
 "nbformat_minor": 2
}
