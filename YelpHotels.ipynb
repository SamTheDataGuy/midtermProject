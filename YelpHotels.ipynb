{
 "cells": [
  {
   "cell_type": "code",
   "execution_count": null,
   "metadata": {},
   "outputs": [],
   "source": [
    "\"\"\" \n",
    "\n",
    "This notebook pulls data for 200 Toronto based hotels, and returns a cleaned dataframe for further analysis\n",
    "\n",
    "\"\"\""
   ]
  },
  {
   "cell_type": "code",
   "execution_count": 13,
   "metadata": {},
   "outputs": [],
   "source": [
    "# Imports\n",
    "\n",
    "import pandas as pd\n",
    "import requests\n",
    "import os"
   ]
  },
  {
   "cell_type": "code",
   "execution_count": 14,
   "metadata": {},
   "outputs": [],
   "source": [
    "# Retreiving API key from environment variable\n",
    "key = os.environ.get('api_key_places')"
   ]
  },
  {
   "cell_type": "code",
   "execution_count": 15,
   "metadata": {},
   "outputs": [],
   "source": [
    "# For Sam's API key, comment out\n",
    "from dotenv import load_dotenv\n",
    "load_dotenv()\n",
    "key = os.getenv('YELP_API_KEY3')"
   ]
  },
  {
   "cell_type": "code",
   "execution_count": 35,
   "metadata": {},
   "outputs": [],
   "source": [
    "# Building a for loop that pulls data for all hotels in Toronto using the Yelp API.  \n",
    "# Yelp only allows 50 results at a time but we want 200 results, so we have to run the query 4 times with the offset parameter set to 0, 50, 100, and 150.\n",
    "\n",
    "response = []\n",
    "\n",
    "for offset in range(0,200,50):\n",
    "    url = 'https://api.yelp.com/v3/businesses/search'\n",
    "    params = {\n",
    "        'limit': 50,\n",
    "        'location': 'Toronto',\n",
    "        'term': 'hotel',\n",
    "        'categories': 'hotel',\n",
    "        'offset': offset\n",
    "    }\n",
    "\n",
    "    headers = {\"accept\": \"application/json\",\"Authorization\": 'bearer ' + key}\n",
    "    response += requests.get(url, headers=headers, params=params).json()['businesses']\n",
    "\n",
    "df_hotels = pd.json_normalize(response)"
   ]
  },
  {
   "cell_type": "code",
   "execution_count": 36,
   "metadata": {},
   "outputs": [],
   "source": [
    "# Unnesting the 'categories column'\n",
    "df_hotels['categories'] = pd.json_normalize(df_hotels['categories'].explode('categories'))['alias']"
   ]
  },
  {
   "cell_type": "code",
   "execution_count": 37,
   "metadata": {},
   "outputs": [
    {
     "data": {
      "text/plain": [
       "(200, 24)"
      ]
     },
     "execution_count": 37,
     "metadata": {},
     "output_type": "execute_result"
    }
   ],
   "source": [
    "# Confirming dataframe shape\n",
    "df_hotels.shape"
   ]
  },
  {
   "cell_type": "code",
   "execution_count": 38,
   "metadata": {},
   "outputs": [
    {
     "data": {
      "text/html": [
       "<div>\n",
       "<style scoped>\n",
       "    .dataframe tbody tr th:only-of-type {\n",
       "        vertical-align: middle;\n",
       "    }\n",
       "\n",
       "    .dataframe tbody tr th {\n",
       "        vertical-align: top;\n",
       "    }\n",
       "\n",
       "    .dataframe thead th {\n",
       "        text-align: right;\n",
       "    }\n",
       "</style>\n",
       "<table border=\"1\" class=\"dataframe\">\n",
       "  <thead>\n",
       "    <tr style=\"text-align: right;\">\n",
       "      <th></th>\n",
       "      <th>id</th>\n",
       "      <th>alias</th>\n",
       "      <th>name</th>\n",
       "      <th>image_url</th>\n",
       "      <th>is_closed</th>\n",
       "      <th>url</th>\n",
       "      <th>review_count</th>\n",
       "      <th>categories</th>\n",
       "      <th>rating</th>\n",
       "      <th>transactions</th>\n",
       "      <th>...</th>\n",
       "      <th>coordinates.latitude</th>\n",
       "      <th>coordinates.longitude</th>\n",
       "      <th>location.address1</th>\n",
       "      <th>location.address2</th>\n",
       "      <th>location.address3</th>\n",
       "      <th>location.city</th>\n",
       "      <th>location.zip_code</th>\n",
       "      <th>location.country</th>\n",
       "      <th>location.state</th>\n",
       "      <th>location.display_address</th>\n",
       "    </tr>\n",
       "  </thead>\n",
       "  <tbody>\n",
       "    <tr>\n",
       "      <th>0</th>\n",
       "      <td>yeesT9W64tpVq5Gcae18Sg</td>\n",
       "      <td>delta-hotels-by-marriott-toronto-toronto-2</td>\n",
       "      <td>Delta Hotels by Marriott Toronto</td>\n",
       "      <td>https://s3-media2.fl.yelpcdn.com/bphoto/TRWtlS...</td>\n",
       "      <td>False</td>\n",
       "      <td>https://www.yelp.com/biz/delta-hotels-by-marri...</td>\n",
       "      <td>161</td>\n",
       "      <td>hotels</td>\n",
       "      <td>4.0</td>\n",
       "      <td>[]</td>\n",
       "      <td>...</td>\n",
       "      <td>43.643069</td>\n",
       "      <td>-79.383865</td>\n",
       "      <td>75 Lower Simcoe Street</td>\n",
       "      <td></td>\n",
       "      <td></td>\n",
       "      <td>Toronto</td>\n",
       "      <td>M5J 3A6</td>\n",
       "      <td>CA</td>\n",
       "      <td>ON</td>\n",
       "      <td>[75 Lower Simcoe Street, Toronto, ON M5J 3A6, ...</td>\n",
       "    </tr>\n",
       "    <tr>\n",
       "      <th>1</th>\n",
       "      <td>kKnGY0Xj7dG4ubjrbygynw</td>\n",
       "      <td>residence-inn-by-marriott-toronto-downtown-tor...</td>\n",
       "      <td>Residence Inn by Marriott Toronto Downtown</td>\n",
       "      <td>https://s3-media4.fl.yelpcdn.com/bphoto/PFaLls...</td>\n",
       "      <td>False</td>\n",
       "      <td>https://www.yelp.com/biz/residence-inn-by-marr...</td>\n",
       "      <td>95</td>\n",
       "      <td>hotels</td>\n",
       "      <td>4.0</td>\n",
       "      <td>[]</td>\n",
       "      <td>...</td>\n",
       "      <td>43.644790</td>\n",
       "      <td>-79.390530</td>\n",
       "      <td>255 Wellington Street W</td>\n",
       "      <td></td>\n",
       "      <td></td>\n",
       "      <td>Toronto</td>\n",
       "      <td>M5V 3P9</td>\n",
       "      <td>CA</td>\n",
       "      <td>ON</td>\n",
       "      <td>[255 Wellington Street W, Toronto, ON M5V 3P9,...</td>\n",
       "    </tr>\n",
       "    <tr>\n",
       "      <th>2</th>\n",
       "      <td>XHrPQKUTJXJGPH9etKUYUw</td>\n",
       "      <td>courtyard-by-marriott-toronto-downtown-toronto</td>\n",
       "      <td>Courtyard by Marriott Toronto Downtown</td>\n",
       "      <td>https://s3-media2.fl.yelpcdn.com/bphoto/d6S6ga...</td>\n",
       "      <td>False</td>\n",
       "      <td>https://www.yelp.com/biz/courtyard-by-marriott...</td>\n",
       "      <td>152</td>\n",
       "      <td>hotels</td>\n",
       "      <td>3.0</td>\n",
       "      <td>[]</td>\n",
       "      <td>...</td>\n",
       "      <td>43.662410</td>\n",
       "      <td>-79.383149</td>\n",
       "      <td>475 Yonge Street</td>\n",
       "      <td></td>\n",
       "      <td></td>\n",
       "      <td>Toronto</td>\n",
       "      <td>M4Y 1X7</td>\n",
       "      <td>CA</td>\n",
       "      <td>ON</td>\n",
       "      <td>[475 Yonge Street, Toronto, ON M4Y 1X7, Canada]</td>\n",
       "    </tr>\n",
       "    <tr>\n",
       "      <th>3</th>\n",
       "      <td>zYRBRfYuq_6x-wNKa8NqrA</td>\n",
       "      <td>le-germain-hotel-toronto</td>\n",
       "      <td>Le Germain Hotel</td>\n",
       "      <td>https://s3-media3.fl.yelpcdn.com/bphoto/m1977c...</td>\n",
       "      <td>False</td>\n",
       "      <td>https://www.yelp.com/biz/le-germain-hotel-toro...</td>\n",
       "      <td>55</td>\n",
       "      <td>hotels</td>\n",
       "      <td>4.5</td>\n",
       "      <td>[]</td>\n",
       "      <td>...</td>\n",
       "      <td>43.645751</td>\n",
       "      <td>-79.391025</td>\n",
       "      <td>30 Mercer Street</td>\n",
       "      <td></td>\n",
       "      <td></td>\n",
       "      <td>Toronto</td>\n",
       "      <td>M5V 1H3</td>\n",
       "      <td>CA</td>\n",
       "      <td>ON</td>\n",
       "      <td>[30 Mercer Street, Toronto, ON M5V 1H3, Canada]</td>\n",
       "    </tr>\n",
       "    <tr>\n",
       "      <th>4</th>\n",
       "      <td>PCkJAv7WQJ08C1RA6ilqWA</td>\n",
       "      <td>1-hotel-toronto-toronto</td>\n",
       "      <td>1 Hotel Toronto</td>\n",
       "      <td>https://s3-media4.fl.yelpcdn.com/bphoto/abOBDo...</td>\n",
       "      <td>False</td>\n",
       "      <td>https://www.yelp.com/biz/1-hotel-toronto-toron...</td>\n",
       "      <td>5</td>\n",
       "      <td>hotels</td>\n",
       "      <td>5.0</td>\n",
       "      <td>[]</td>\n",
       "      <td>...</td>\n",
       "      <td>43.642826</td>\n",
       "      <td>-79.401439</td>\n",
       "      <td>550 Wellington Street W</td>\n",
       "      <td>None</td>\n",
       "      <td></td>\n",
       "      <td>Toronto</td>\n",
       "      <td>M5V 2V4</td>\n",
       "      <td>CA</td>\n",
       "      <td>ON</td>\n",
       "      <td>[550 Wellington Street W, Toronto, ON M5V 2V4,...</td>\n",
       "    </tr>\n",
       "  </tbody>\n",
       "</table>\n",
       "<p>5 rows × 24 columns</p>\n",
       "</div>"
      ],
      "text/plain": [
       "                       id                                              alias  \\\n",
       "0  yeesT9W64tpVq5Gcae18Sg         delta-hotels-by-marriott-toronto-toronto-2   \n",
       "1  kKnGY0Xj7dG4ubjrbygynw  residence-inn-by-marriott-toronto-downtown-tor...   \n",
       "2  XHrPQKUTJXJGPH9etKUYUw     courtyard-by-marriott-toronto-downtown-toronto   \n",
       "3  zYRBRfYuq_6x-wNKa8NqrA                           le-germain-hotel-toronto   \n",
       "4  PCkJAv7WQJ08C1RA6ilqWA                            1-hotel-toronto-toronto   \n",
       "\n",
       "                                         name  \\\n",
       "0            Delta Hotels by Marriott Toronto   \n",
       "1  Residence Inn by Marriott Toronto Downtown   \n",
       "2      Courtyard by Marriott Toronto Downtown   \n",
       "3                            Le Germain Hotel   \n",
       "4                             1 Hotel Toronto   \n",
       "\n",
       "                                           image_url  is_closed  \\\n",
       "0  https://s3-media2.fl.yelpcdn.com/bphoto/TRWtlS...      False   \n",
       "1  https://s3-media4.fl.yelpcdn.com/bphoto/PFaLls...      False   \n",
       "2  https://s3-media2.fl.yelpcdn.com/bphoto/d6S6ga...      False   \n",
       "3  https://s3-media3.fl.yelpcdn.com/bphoto/m1977c...      False   \n",
       "4  https://s3-media4.fl.yelpcdn.com/bphoto/abOBDo...      False   \n",
       "\n",
       "                                                 url  review_count categories  \\\n",
       "0  https://www.yelp.com/biz/delta-hotels-by-marri...           161     hotels   \n",
       "1  https://www.yelp.com/biz/residence-inn-by-marr...            95     hotels   \n",
       "2  https://www.yelp.com/biz/courtyard-by-marriott...           152     hotels   \n",
       "3  https://www.yelp.com/biz/le-germain-hotel-toro...            55     hotels   \n",
       "4  https://www.yelp.com/biz/1-hotel-toronto-toron...             5     hotels   \n",
       "\n",
       "   rating transactions  ... coordinates.latitude coordinates.longitude  \\\n",
       "0     4.0           []  ...            43.643069            -79.383865   \n",
       "1     4.0           []  ...            43.644790            -79.390530   \n",
       "2     3.0           []  ...            43.662410            -79.383149   \n",
       "3     4.5           []  ...            43.645751            -79.391025   \n",
       "4     5.0           []  ...            43.642826            -79.401439   \n",
       "\n",
       "         location.address1  location.address2  location.address3  \\\n",
       "0   75 Lower Simcoe Street                                         \n",
       "1  255 Wellington Street W                                         \n",
       "2         475 Yonge Street                                         \n",
       "3         30 Mercer Street                                         \n",
       "4  550 Wellington Street W               None                      \n",
       "\n",
       "   location.city location.zip_code location.country location.state  \\\n",
       "0        Toronto           M5J 3A6               CA             ON   \n",
       "1        Toronto           M5V 3P9               CA             ON   \n",
       "2        Toronto           M4Y 1X7               CA             ON   \n",
       "3        Toronto           M5V 1H3               CA             ON   \n",
       "4        Toronto           M5V 2V4               CA             ON   \n",
       "\n",
       "                            location.display_address  \n",
       "0  [75 Lower Simcoe Street, Toronto, ON M5J 3A6, ...  \n",
       "1  [255 Wellington Street W, Toronto, ON M5V 3P9,...  \n",
       "2    [475 Yonge Street, Toronto, ON M4Y 1X7, Canada]  \n",
       "3    [30 Mercer Street, Toronto, ON M5V 1H3, Canada]  \n",
       "4  [550 Wellington Street W, Toronto, ON M5V 2V4,...  \n",
       "\n",
       "[5 rows x 24 columns]"
      ]
     },
     "execution_count": 38,
     "metadata": {},
     "output_type": "execute_result"
    }
   ],
   "source": [
    "# Viewing sample of dataframe\n",
    "df_hotels.head()"
   ]
  },
  {
   "cell_type": "code",
   "execution_count": 39,
   "metadata": {},
   "outputs": [
    {
     "data": {
      "text/plain": [
       "Index(['id', 'alias', 'name', 'image_url', 'is_closed', 'url', 'review_count',\n",
       "       'categories', 'rating', 'transactions', 'price', 'phone',\n",
       "       'display_phone', 'distance', 'coordinates.latitude',\n",
       "       'coordinates.longitude', 'location.address1', 'location.address2',\n",
       "       'location.address3', 'location.city', 'location.zip_code',\n",
       "       'location.country', 'location.state', 'location.display_address'],\n",
       "      dtype='object')"
      ]
     },
     "execution_count": 39,
     "metadata": {},
     "output_type": "execute_result"
    }
   ],
   "source": [
    "# Viewing columns\n",
    "\n",
    "df_hotels.columns"
   ]
  },
  {
   "cell_type": "code",
   "execution_count": 40,
   "metadata": {},
   "outputs": [],
   "source": [
    "# Deciding which columns to keep\n",
    "\n",
    "df_hotels = df_hotels[['id', 'name', 'review_count',\n",
    "       'categories', 'rating', 'price', 'distance', 'coordinates.latitude',\n",
    "       'coordinates.longitude', 'location.address1',\n",
    "       'location.city', 'location.zip_code',\n",
    "       'location.country', 'location.state', 'location.display_address']]"
   ]
  },
  {
   "cell_type": "code",
   "execution_count": 41,
   "metadata": {},
   "outputs": [],
   "source": [
    "# Renaming columns for when we merge with POI data\n",
    "\n",
    "df_hotels.columns = ['hotel_id', 'hotel_name', 'hotel_review_count',\n",
    "       'hotel_categories', 'hotel_rating', 'hotel_price', 'hotel_distance', 'hotel_latitude',\n",
    "       'hotel_longitude', 'hotel_address1', \n",
    "       'hotel_city', 'hotel_zip_code',\n",
    "       'hotel_country', 'hotel_state', 'hotel_display_address']"
   ]
  },
  {
   "cell_type": "code",
   "execution_count": 43,
   "metadata": {},
   "outputs": [],
   "source": [
    "# Converting prices from dollar signs to integers\n",
    "df_hotels['hotel_price'] = df_hotels['hotel_price'].str.len()"
   ]
  },
  {
   "cell_type": "code",
   "execution_count": null,
   "metadata": {},
   "outputs": [],
   "source": [
    "# Checking the percentage of columns that are not null\n",
    "\n",
    "print(df_hotels.count()/df_hotels.shape[0])\n",
    "print()\n",
    "print(str(df_hotels.shape[0]) + ' rows')\n",
    "print('Mean not null percentage: '+ str((df_hotels.count()/df_hotels.shape[0]).mean()))"
   ]
  },
  {
   "cell_type": "code",
   "execution_count": 45,
   "metadata": {},
   "outputs": [],
   "source": [
    "# We need to fill the null values in the price column.  We've chosen to fill nulls with the mean value, but rounded to the closest integer since the price data is ordinal.\n",
    "\n",
    "price_mean = round(df_hotels['hotel_price'].mean())\n",
    "df_hotels['hotel_price'] = df_hotels['hotel_price'].fillna(price_mean).astype(int)"
   ]
  },
  {
   "cell_type": "code",
   "execution_count": 46,
   "metadata": {},
   "outputs": [],
   "source": [
    "# Writing hotels dataframe to a .csv file\n",
    "df_hotels.to_csv('yelp_hotels.csv',index=False)"
   ]
  }
 ],
 "metadata": {
  "kernelspec": {
   "display_name": "Python 3 (ipykernel)",
   "language": "python",
   "name": "python3"
  },
  "language_info": {
   "codemirror_mode": {
    "name": "ipython",
    "version": 3
   },
   "file_extension": ".py",
   "mimetype": "text/x-python",
   "name": "python",
   "nbconvert_exporter": "python",
   "pygments_lexer": "ipython3",
   "version": "3.10.9"
  }
 },
 "nbformat": 4,
 "nbformat_minor": 4
}
