{
 "cells": [
  {
   "cell_type": "code",
   "execution_count": 1,
   "id": "b8e1a06e-1e15-4dd2-9676-aac4049a676c",
   "metadata": {
    "tags": []
   },
   "outputs": [],
   "source": [
    "#Import Libraries\n",
    "#Data Manipulation\n",
    "import numpy as np\n",
    "import pandas as pd\n",
    "\n",
    "#Visualization\n",
    "import matplotlib.pyplot as plt\n",
    "import seaborn as sns\n",
    "\n",
    "#Preprocessing\n",
    "from sklearn.preprocessing import LabelEncoder\n",
    "from sklearn.model_selection import train_test_split\n",
    "\n",
    "#Models\n",
    "from sklearn.tree import DecisionTreeRegressor\n",
    "from sklearn.linear_model import LinearRegression\n",
    "from xgboost import XGBRegressor\n",
    "\n",
    "#Metrics\n",
    "from sklearn.metrics import r2_score\n",
    "\n",
    "#Load Data from mehzabeen file path\n",
    "hotels_poi_data = pd.read_csv('hotels_and_POIs.csv')"
   ]
  },
  {
   "cell_type": "code",
   "execution_count": 2,
   "id": "29776015-3035-406b-a6c2-bfa1b2118c99",
   "metadata": {
    "tags": []
   },
   "outputs": [
    {
     "name": "stdout",
     "output_type": "stream",
     "text": [
      "Null indices in column hotel_id: []\n",
      "Null indices in column hotel_name: []\n",
      "Null indices in column hotel_review_count: []\n",
      "Null indices in column hotel_categories: []\n",
      "Null indices in column hotel_rating: []\n",
      "Null indices in column hotel_price: []\n",
      "Null indices in column hotel_distance: []\n",
      "Null indices in column hotel_latitude: []\n",
      "Null indices in column hotel_longitude: []\n",
      "Null indices in column hotel_address1: [83]\n",
      "Null indices in column hotel_city: []\n",
      "Null indices in column hotel_zip_code: [83, 187]\n",
      "Null indices in column hotel_country: []\n",
      "Null indices in column hotel_state: []\n",
      "Null indices in column hotel_display_address: []\n",
      "Null indices in column mean_poi_price: [7, 18, 43, 45, 51, 69, 73, 78, 86, 90, 99, 101, 104, 107, 111, 112, 114, 115, 119, 124, 138, 143, 148, 156, 162, 163, 164, 173, 178, 184, 186, 191, 193, 195, 197, 198, 199]\n",
      "Null indices in column mean_poi_rating: [18, 51, 73, 78, 86, 101, 104, 111, 112, 114, 115, 119, 124, 156, 162, 163, 173, 184, 186, 191, 193, 195, 198, 199]\n",
      "Null indices in column mean_poi_review_count: [18, 51, 73, 78, 86, 101, 104, 111, 112, 114, 115, 119, 124, 156, 162, 163, 173, 184, 186, 191, 193, 195, 198, 199]\n",
      "Null indices in column count_poi: []\n"
     ]
    }
   ],
   "source": [
    "#Looking for nulls in numeric columns\n",
    "for col in hotels_poi_data.columns:\n",
    "    null_rows = hotels_poi_data[hotels_poi_data[col].isnull()].index.tolist()\n",
    "    print(f'Null indices in column {col}: {null_rows}')"
   ]
  },
  {
   "cell_type": "code",
   "execution_count": 3,
   "id": "3033871f-a25c-445f-9e12-c4771313a23e",
   "metadata": {
    "tags": []
   },
   "outputs": [
    {
     "name": "stderr",
     "output_type": "stream",
     "text": [
      "C:\\Users\\CFS\\AppData\\Local\\Temp\\ipykernel_8280\\3934880543.py:2: FutureWarning: The default value of numeric_only in DataFrame.mean is deprecated. In a future version, it will default to False. In addition, specifying 'numeric_only=None' is deprecated. Select only valid columns or specify the value of numeric_only to silence this warning.\n",
      "  hotels_poi_data.fillna(hotels_poi_data.mean(), inplace=True)\n"
     ]
    }
   ],
   "source": [
    "# Fill the null values in each column with the mean of that column, modifying the original DataFrame\n",
    "hotels_poi_data.fillna(hotels_poi_data.mean(), inplace=True)\n"
   ]
  },
  {
   "cell_type": "code",
   "execution_count": 4,
   "id": "9d6ce3b3-3bc2-46a4-a495-d3e8a6c397e0",
   "metadata": {
    "tags": []
   },
   "outputs": [],
   "source": [
    "import statsmodels.api as sm\n"
   ]
  },
  {
   "cell_type": "code",
   "execution_count": 5,
   "id": "07b0843a-46d4-40f2-b7cb-78c82f7a4f68",
   "metadata": {
    "tags": []
   },
   "outputs": [],
   "source": [
    "# Prepare the data for regression testing with 9 independent variables\n",
    "X = hotels_poi_data[['hotel_review_count', 'hotel_price', 'hotel_distance','mean_poi_price', 'mean_poi_rating', 'mean_poi_review_count','count_poi', 'hotel_latitude', 'hotel_longitude']]  # Independent variables\n",
    "y = hotels_poi_data['hotel_rating']  # Dependent variable\n",
    "\n",
    "# Add a constant term to the independent variables\n",
    "X = sm.add_constant(X)\n",
    "\n",
    "# Build the regression model\n",
    "model = sm.OLS(y, X)\n",
    "\n",
    "# Fit the regression model\n",
    "results = model.fit()"
   ]
  },
  {
   "cell_type": "code",
   "execution_count": 6,
   "id": "19ceeb00-d6f6-4b81-bea0-25e0c0cf4f99",
   "metadata": {
    "tags": []
   },
   "outputs": [
    {
     "name": "stdout",
     "output_type": "stream",
     "text": [
      "                            OLS Regression Results                            \n",
      "==============================================================================\n",
      "Dep. Variable:           hotel_rating   R-squared:                       0.149\n",
      "Model:                            OLS   Adj. R-squared:                  0.109\n",
      "Method:                 Least Squares   F-statistic:                     3.698\n",
      "Date:                Thu, 13 Jul 2023   Prob (F-statistic):           0.000271\n",
      "Time:                        20:51:54   Log-Likelihood:                -271.60\n",
      "No. Observations:                 200   AIC:                             563.2\n",
      "Df Residuals:                     190   BIC:                             596.2\n",
      "Df Model:                           9                                         \n",
      "Covariance Type:            nonrobust                                         \n",
      "=========================================================================================\n",
      "                            coef    std err          t      P>|t|      [0.025      0.975]\n",
      "-----------------------------------------------------------------------------------------\n",
      "const                  -264.9998    133.873     -1.979      0.049    -529.067      -0.932\n",
      "hotel_review_count       -0.0005      0.001     -0.365      0.715      -0.003       0.002\n",
      "hotel_price               0.4282      0.146      2.936      0.004       0.140       0.716\n",
      "hotel_distance        -1.876e-05   1.66e-05     -1.131      0.259   -5.15e-05    1.39e-05\n",
      "mean_poi_price           -0.1440      0.214     -0.672      0.502      -0.566       0.278\n",
      "mean_poi_rating           0.1002      0.119      0.843      0.400      -0.134       0.334\n",
      "mean_poi_review_count     0.0026      0.002      1.648      0.101      -0.001       0.006\n",
      "count_poi                 0.0180      0.007      2.652      0.009       0.005       0.031\n",
      "hotel_latitude            2.0915      1.565      1.336      0.183      -0.996       5.179\n",
      "hotel_longitude          -2.2096      1.117     -1.978      0.049      -4.413      -0.006\n",
      "==============================================================================\n",
      "Omnibus:                        2.295   Durbin-Watson:                   2.057\n",
      "Prob(Omnibus):                  0.317   Jarque-Bera (JB):                2.148\n",
      "Skew:                          -0.173   Prob(JB):                        0.342\n",
      "Kurtosis:                       2.628   Cond. No.                     1.90e+07\n",
      "==============================================================================\n",
      "\n",
      "Notes:\n",
      "[1] Standard Errors assume that the covariance matrix of the errors is correctly specified.\n",
      "[2] The condition number is large, 1.9e+07. This might indicate that there are\n",
      "strong multicollinearity or other numerical problems.\n"
     ]
    }
   ],
   "source": [
    "print(results.summary())"
   ]
  },
  {
   "cell_type": "code",
   "execution_count": 7,
   "id": "1ea14b93-802d-4032-adb9-420088b27a31",
   "metadata": {
    "tags": []
   },
   "outputs": [],
   "source": [
    "# Prepare the data for regression model with two independent variables\n",
    "X = hotels_poi_data[['hotel_price','count_poi']]  # Independent variables\n",
    "y = hotels_poi_data['hotel_rating']  # Dependent variable\n",
    "\n",
    "# Add a constant term to the independent variables\n",
    "X = sm.add_constant(X)\n",
    "\n",
    "# Build the regression model\n",
    "model = sm.OLS(y, X)\n",
    "\n",
    "# Fit the regression model\n",
    "results = model.fit()\n"
   ]
  },
  {
   "cell_type": "code",
   "execution_count": 8,
   "id": "deec57e2-0a83-4875-b1e8-2777dcd5bfaa",
   "metadata": {
    "tags": []
   },
   "outputs": [
    {
     "name": "stdout",
     "output_type": "stream",
     "text": [
      "                            OLS Regression Results                            \n",
      "==============================================================================\n",
      "Dep. Variable:           hotel_rating   R-squared:                       0.114\n",
      "Model:                            OLS   Adj. R-squared:                  0.105\n",
      "Method:                 Least Squares   F-statistic:                     12.71\n",
      "Date:                Thu, 13 Jul 2023   Prob (F-statistic):           6.41e-06\n",
      "Time:                        20:52:05   Log-Likelihood:                -275.60\n",
      "No. Observations:                 200   AIC:                             557.2\n",
      "Df Residuals:                     197   BIC:                             567.1\n",
      "Df Model:                           2                                         \n",
      "Covariance Type:            nonrobust                                         \n",
      "===============================================================================\n",
      "                  coef    std err          t      P>|t|      [0.025      0.975]\n",
      "-------------------------------------------------------------------------------\n",
      "const           1.9885      0.295      6.731      0.000       1.406       2.571\n",
      "hotel_price     0.3879      0.133      2.907      0.004       0.125       0.651\n",
      "count_poi       0.0170      0.005      3.201      0.002       0.007       0.027\n",
      "==============================================================================\n",
      "Omnibus:                        2.788   Durbin-Watson:                   2.072\n",
      "Prob(Omnibus):                  0.248   Jarque-Bera (JB):                2.417\n",
      "Skew:                          -0.168   Prob(JB):                        0.299\n",
      "Kurtosis:                       2.579   Cond. No.                         90.0\n",
      "==============================================================================\n",
      "\n",
      "Notes:\n",
      "[1] Standard Errors assume that the covariance matrix of the errors is correctly specified.\n"
     ]
    }
   ],
   "source": [
    "print(results.summary())"
   ]
  },
  {
   "cell_type": "code",
   "execution_count": null,
   "id": "78e5a5b7-9c7e-4084-ae1d-dcdde4f8ea24",
   "metadata": {},
   "outputs": [],
   "source": []
  }
 ],
 "metadata": {
  "kernelspec": {
   "display_name": "Python 3 (ipykernel)",
   "language": "python",
   "name": "python3"
  },
  "language_info": {
   "codemirror_mode": {
    "name": "ipython",
    "version": 3
   },
   "file_extension": ".py",
   "mimetype": "text/x-python",
   "name": "python",
   "nbconvert_exporter": "python",
   "pygments_lexer": "ipython3",
   "version": "3.10.9"
  }
 },
 "nbformat": 4,
 "nbformat_minor": 5
}
