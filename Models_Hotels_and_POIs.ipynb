{
 "cells": [
  {
   "cell_type": "markdown",
   "id": "bd6ae9c2",
   "metadata": {},
   "source": [
    "# Initial Steps"
   ]
  },
  {
   "cell_type": "code",
   "execution_count": 7,
   "id": "de53756f",
   "metadata": {},
   "outputs": [
    {
     "data": {
      "text/plain": [
       "'\\n\\nThis notebook contains the linear regression models \\n\\n'"
      ]
     },
     "execution_count": 7,
     "metadata": {},
     "output_type": "execute_result"
    }
   ],
   "source": [
    "\"\"\"\n",
    "\n",
    "This notebook contains the linear regression models \n",
    "\n",
    "\"\"\""
   ]
  },
  {
   "cell_type": "code",
   "execution_count": 13,
   "id": "b8e1a06e-1e15-4dd2-9676-aac4049a676c",
   "metadata": {
    "tags": []
   },
   "outputs": [],
   "source": [
    "# Import Libraries\n",
    "\n",
    "# Data Manipulation\n",
    "import numpy as np\n",
    "import pandas as pd\n",
    "\n",
    "# Visualization\n",
    "import matplotlib.pyplot as plt\n",
    "import seaborn as sns\n",
    "\n",
    "# Preprocessing\n",
    "from sklearn.preprocessing import LabelEncoder\n",
    "from sklearn.model_selection import train_test_split\n",
    "\n",
    "# Models\n",
    "from sklearn.tree import DecisionTreeRegressor\n",
    "from sklearn.linear_model import LinearRegression\n",
    "from xgboost import XGBRegressor\n",
    "import statsmodels.api as sm\n",
    "\n",
    "\n",
    "# Metrics\n",
    "from sklearn.metrics import r2_score\n"
   ]
  },
  {
   "cell_type": "code",
   "execution_count": 14,
   "id": "6bae025e",
   "metadata": {},
   "outputs": [],
   "source": [
    "# Load Data \n",
    "df_hotels_POIs = pd.read_csv('hotels_and_POIs.csv')"
   ]
  },
  {
   "cell_type": "code",
   "execution_count": 15,
   "id": "789cc467",
   "metadata": {},
   "outputs": [
    {
     "name": "stdout",
     "output_type": "stream",
     "text": [
      "<class 'pandas.core.frame.DataFrame'>\n",
      "RangeIndex: 200 entries, 0 to 199\n",
      "Data columns (total 19 columns):\n",
      " #   Column                 Non-Null Count  Dtype  \n",
      "---  ------                 --------------  -----  \n",
      " 0   hotel_id               200 non-null    object \n",
      " 1   hotel_name             200 non-null    object \n",
      " 2   hotel_review_count     200 non-null    int64  \n",
      " 3   hotel_categories       200 non-null    object \n",
      " 4   hotel_rating           200 non-null    float64\n",
      " 5   hotel_price            200 non-null    int64  \n",
      " 6   hotel_distance         200 non-null    float64\n",
      " 7   hotel_latitude         200 non-null    float64\n",
      " 8   hotel_longitude        200 non-null    float64\n",
      " 9   hotel_address1         199 non-null    object \n",
      " 10  hotel_city             200 non-null    object \n",
      " 11  hotel_zip_code         198 non-null    object \n",
      " 12  hotel_country          200 non-null    object \n",
      " 13  hotel_state            200 non-null    object \n",
      " 14  hotel_display_address  200 non-null    object \n",
      " 15  mean_poi_price         200 non-null    float64\n",
      " 16  mean_poi_rating        200 non-null    float64\n",
      " 17  mean_poi_review_count  200 non-null    float64\n",
      " 18  count_poi              200 non-null    int64  \n",
      "dtypes: float64(7), int64(3), object(9)\n",
      "memory usage: 29.8+ KB\n"
     ]
    }
   ],
   "source": [
    "# Checking data types and for any null values in numeric features\n",
    "df_hotels_POIs.info()"
   ]
  },
  {
   "cell_type": "markdown",
   "id": "65b00e68",
   "metadata": {},
   "source": [
    "# 1st Linear Regression Model - Predicting Hotel Rating"
   ]
  },
  {
   "cell_type": "code",
   "execution_count": 16,
   "id": "9d6ce3b3-3bc2-46a4-a495-d3e8a6c397e0",
   "metadata": {
    "tags": []
   },
   "outputs": [
    {
     "data": {
      "text/plain": [
       "Index(['hotel_id', 'hotel_name', 'hotel_review_count', 'hotel_categories',\n",
       "       'hotel_rating', 'hotel_price', 'hotel_distance', 'hotel_latitude',\n",
       "       'hotel_longitude', 'hotel_address1', 'hotel_city', 'hotel_zip_code',\n",
       "       'hotel_country', 'hotel_state', 'hotel_display_address',\n",
       "       'mean_poi_price', 'mean_poi_rating', 'mean_poi_review_count',\n",
       "       'count_poi'],\n",
       "      dtype='object')"
      ]
     },
     "execution_count": 16,
     "metadata": {},
     "output_type": "execute_result"
    }
   ],
   "source": [
    "df_hotels_POIs.columns"
   ]
  },
  {
   "cell_type": "code",
   "execution_count": 26,
   "id": "07b0843a-46d4-40f2-b7cb-78c82f7a4f68",
   "metadata": {
    "tags": []
   },
   "outputs": [
    {
     "name": "stdout",
     "output_type": "stream",
     "text": [
      "                            OLS Regression Results                            \n",
      "==============================================================================\n",
      "Dep. Variable:           hotel_rating   R-squared:                       0.141\n",
      "Model:                            OLS   Adj. R-squared:                  0.100\n",
      "Method:                 Least Squares   F-statistic:                     3.460\n",
      "Date:                Fri, 14 Jul 2023   Prob (F-statistic):           0.000564\n",
      "Time:                        04:05:03   Log-Likelihood:                -272.56\n",
      "No. Observations:                 200   AIC:                             565.1\n",
      "Df Residuals:                     190   BIC:                             598.1\n",
      "Df Model:                           9                                         \n",
      "Covariance Type:            nonrobust                                         \n",
      "=========================================================================================\n",
      "                            coef    std err          t      P>|t|      [0.025      0.975]\n",
      "-----------------------------------------------------------------------------------------\n",
      "const                  -252.3457    134.835     -1.872      0.063    -518.311      13.620\n",
      "hotel_review_count       -0.0007      0.001     -0.504      0.615      -0.003       0.002\n",
      "hotel_price               0.3792      0.147      2.584      0.011       0.090       0.669\n",
      "hotel_distance        -2.014e-05   1.66e-05     -1.211      0.227   -5.29e-05    1.27e-05\n",
      "hotel_latitude            1.9305      1.577      1.224      0.222      -1.179       5.040\n",
      "hotel_longitude          -2.1404      1.124     -1.904      0.058      -4.358       0.077\n",
      "mean_poi_price           -0.1188      0.216     -0.549      0.584      -0.546       0.308\n",
      "mean_poi_rating           0.0930      0.119      0.780      0.436      -0.142       0.328\n",
      "mean_poi_review_count     0.0025      0.002      1.595      0.112      -0.001       0.006\n",
      "count_poi                 0.0184      0.007      2.699      0.008       0.005       0.032\n",
      "==============================================================================\n",
      "Omnibus:                        2.224   Durbin-Watson:                   2.136\n",
      "Prob(Omnibus):                  0.329   Jarque-Bera (JB):                1.921\n",
      "Skew:                          -0.123   Prob(JB):                        0.383\n",
      "Kurtosis:                       2.587   Cond. No.                     1.91e+07\n",
      "==============================================================================\n",
      "\n",
      "Notes:\n",
      "[1] Standard Errors assume that the covariance matrix of the errors is correctly specified.\n",
      "[2] The condition number is large, 1.91e+07. This might indicate that there are\n",
      "strong multicollinearity or other numerical problems.\n",
      "\n",
      "Largest p-value: 0.6151096145372507\n"
     ]
    }
   ],
   "source": [
    "# Prepare the data for regression testing with 9 independent variables\n",
    "\n",
    "dependent_column = 'hotel_rating'\n",
    "\n",
    "independent_columns = ['hotel_review_count',\n",
    "       'hotel_price', 'hotel_distance', 'hotel_latitude',\n",
    "       'hotel_longitude',\n",
    "       'mean_poi_price', 'mean_poi_rating', 'mean_poi_review_count',\n",
    "       'count_poi']\n",
    "\n",
    "y = df_hotels_POIs[dependent_column]  # Dependent variable\n",
    "X = df_hotels_POIs[independent_columns]  # Independent variables\n",
    "\n",
    "# Add a constant term to the independent variables\n",
    "X = sm.add_constant(X)\n",
    "\n",
    "# Build the regression model\n",
    "model = sm.OLS(y, X)\n",
    "\n",
    "# Fit the regression model\n",
    "results = model.fit()\n",
    "\n",
    "# Print the results\n",
    "print(results.summary())\n",
    "print()\n",
    "print('Largest p-value: ' + str(results.pvalues.max()))"
   ]
  },
  {
   "cell_type": "code",
   "execution_count": 36,
   "id": "19ceeb00-d6f6-4b81-bea0-25e0c0cf4f99",
   "metadata": {
    "tags": []
   },
   "outputs": [
    {
     "name": "stdout",
     "output_type": "stream",
     "text": [
      "                            OLS Regression Results                            \n",
      "==============================================================================\n",
      "Dep. Variable:           hotel_rating   R-squared:                       0.108\n",
      "Model:                            OLS   Adj. R-squared:                  0.099\n",
      "Method:                 Least Squares   F-statistic:                     11.90\n",
      "Date:                Fri, 14 Jul 2023   Prob (F-statistic):           1.33e-05\n",
      "Time:                        04:12:37   Log-Likelihood:                -276.34\n",
      "No. Observations:                 200   AIC:                             558.7\n",
      "Df Residuals:                     197   BIC:                             568.6\n",
      "Df Model:                           2                                         \n",
      "Covariance Type:            nonrobust                                         \n",
      "===============================================================================\n",
      "                  coef    std err          t      P>|t|      [0.025      0.975]\n",
      "-------------------------------------------------------------------------------\n",
      "const           2.1042      0.282      7.468      0.000       1.549       2.660\n",
      "hotel_price     0.3443      0.131      2.631      0.009       0.086       0.602\n",
      "count_poi       0.0175      0.005      3.296      0.001       0.007       0.028\n",
      "==============================================================================\n",
      "Omnibus:                        3.076   Durbin-Watson:                   2.164\n",
      "Prob(Omnibus):                  0.215   Jarque-Bera (JB):                2.310\n",
      "Skew:                          -0.107   Prob(JB):                        0.315\n",
      "Kurtosis:                       2.519   Cond. No.                         85.8\n",
      "==============================================================================\n",
      "\n",
      "Notes:\n",
      "[1] Standard Errors assume that the covariance matrix of the errors is correctly specified.\n",
      "\n",
      "Largest p-value: 0.00919859005755845\n"
     ]
    }
   ],
   "source": [
    "# Remove feature with largest p-value (hotel_review_count) and run model again.  Repeat until all p-values are below the significance level (0.05).\n",
    "# We are left with 2 independent variables: hotel_price and count_poi.\n",
    "\n",
    "dependent_column = 'hotel_rating'\n",
    "\n",
    "independent_columns = [\n",
    "       'hotel_price',\n",
    "       'count_poi']\n",
    "\n",
    "y = df_hotels_POIs[dependent_column]  # Dependent variable\n",
    "X = df_hotels_POIs[independent_columns]  # Independent variables\n",
    "\n",
    "# Add a constant term to the independent variables\n",
    "X = sm.add_constant(X)\n",
    "\n",
    "# Build the regression model\n",
    "model = sm.OLS(y, X)\n",
    "\n",
    "# Fit the regression model\n",
    "results = model.fit()\n",
    "\n",
    "# Print the results\n",
    "print(results.summary())\n",
    "print()\n",
    "print('Largest p-value: ' + str(results.pvalues.max()))"
   ]
  },
  {
   "cell_type": "markdown",
   "id": "62e5d5ef",
   "metadata": {},
   "source": [
    "# 2nd Linear Regression Model - Predicting Hotel Price"
   ]
  },
  {
   "cell_type": "code",
   "execution_count": 39,
   "id": "78e5a5b7-9c7e-4084-ae1d-dcdde4f8ea24",
   "metadata": {},
   "outputs": [
    {
     "name": "stdout",
     "output_type": "stream",
     "text": [
      "                            OLS Regression Results                            \n",
      "==============================================================================\n",
      "Dep. Variable:            hotel_price   R-squared:                       0.283\n",
      "Model:                            OLS   Adj. R-squared:                  0.249\n",
      "Method:                 Least Squares   F-statistic:                     8.342\n",
      "Date:                Fri, 14 Jul 2023   Prob (F-statistic):           1.89e-10\n",
      "Time:                        04:18:21   Log-Likelihood:                -128.20\n",
      "No. Observations:                 200   AIC:                             276.4\n",
      "Df Residuals:                     190   BIC:                             309.4\n",
      "Df Model:                           9                                         \n",
      "Covariance Type:            nonrobust                                         \n",
      "=========================================================================================\n",
      "                            coef    std err          t      P>|t|      [0.025      0.975]\n",
      "-----------------------------------------------------------------------------------------\n",
      "const                   -42.1801     66.045     -0.639      0.524    -172.455      88.095\n",
      "hotel_review_count        0.0028      0.001      4.620      0.000       0.002       0.004\n",
      "hotel_rating              0.0895      0.035      2.584      0.011       0.021       0.158\n",
      "hotel_distance        -8.298e-06   8.09e-06     -1.026      0.306   -2.42e-05    7.65e-06\n",
      "hotel_latitude            0.5696      0.768      0.742      0.459      -0.945       2.084\n",
      "hotel_longitude          -0.2324      0.551     -0.422      0.674      -1.320       0.855\n",
      "mean_poi_price            0.4585      0.100      4.593      0.000       0.262       0.655\n",
      "mean_poi_rating          -0.0798      0.058     -1.384      0.168      -0.194       0.034\n",
      "mean_poi_review_count    -0.0010      0.001     -1.340      0.182      -0.003       0.000\n",
      "count_poi                 0.0063      0.003      1.878      0.062      -0.000       0.013\n",
      "==============================================================================\n",
      "Omnibus:                       15.753   Durbin-Watson:                   2.200\n",
      "Prob(Omnibus):                  0.000   Jarque-Bera (JB):               21.009\n",
      "Skew:                           0.525   Prob(JB):                     2.74e-05\n",
      "Kurtosis:                       4.192   Cond. No.                     1.92e+07\n",
      "==============================================================================\n",
      "\n",
      "Notes:\n",
      "[1] Standard Errors assume that the covariance matrix of the errors is correctly specified.\n",
      "[2] The condition number is large, 1.92e+07. This might indicate that there are\n",
      "strong multicollinearity or other numerical problems.\n",
      "\n",
      "Largest p-value: 0.6737257672202712\n"
     ]
    }
   ],
   "source": [
    "# Prepare the data for regression testing with 9 independent variables\n",
    "\n",
    "dependent_column = 'hotel_price'\n",
    "\n",
    "independent_columns = ['hotel_review_count',\n",
    "       'hotel_rating', 'hotel_distance', 'hotel_latitude',\n",
    "       'hotel_longitude',\n",
    "       'mean_poi_price', 'mean_poi_rating', 'mean_poi_review_count',\n",
    "       'count_poi']\n",
    "\n",
    "y = df_hotels_POIs[dependent_column]  # Dependent variable\n",
    "X = df_hotels_POIs[independent_columns]  # Independent variables\n",
    "\n",
    "# Add a constant term to the independent variables\n",
    "X = sm.add_constant(X)\n",
    "\n",
    "# Build the regression model\n",
    "model = sm.OLS(y, X)\n",
    "\n",
    "# Fit the regression model\n",
    "results = model.fit()\n",
    "\n",
    "# Print the results\n",
    "print(results.summary())\n",
    "print()\n",
    "print('Largest p-value: ' + str(results.pvalues.max()))"
   ]
  },
  {
   "cell_type": "code",
   "execution_count": 47,
   "id": "22d95cfc",
   "metadata": {},
   "outputs": [
    {
     "name": "stdout",
     "output_type": "stream",
     "text": [
      "                            OLS Regression Results                            \n",
      "==============================================================================\n",
      "Dep. Variable:            hotel_price   R-squared:                       0.261\n",
      "Model:                            OLS   Adj. R-squared:                  0.246\n",
      "Method:                 Least Squares   F-statistic:                     17.25\n",
      "Date:                Fri, 14 Jul 2023   Prob (F-statistic):           3.93e-12\n",
      "Time:                        04:20:52   Log-Likelihood:                -131.21\n",
      "No. Observations:                 200   AIC:                             272.4\n",
      "Df Residuals:                     195   BIC:                             288.9\n",
      "Df Model:                           4                                         \n",
      "Covariance Type:            nonrobust                                         \n",
      "======================================================================================\n",
      "                         coef    std err          t      P>|t|      [0.025      0.975]\n",
      "--------------------------------------------------------------------------------------\n",
      "const                  0.9112      0.215      4.243      0.000       0.488       1.335\n",
      "hotel_review_count     0.0028      0.001      4.634      0.000       0.002       0.004\n",
      "hotel_rating           0.0857      0.034      2.510      0.013       0.018       0.153\n",
      "mean_poi_price         0.4055      0.094      4.306      0.000       0.220       0.591\n",
      "count_poi              0.0061      0.003      2.093      0.038       0.000       0.012\n",
      "==============================================================================\n",
      "Omnibus:                       17.810   Durbin-Watson:                   2.208\n",
      "Prob(Omnibus):                  0.000   Jarque-Bera (JB):               24.720\n",
      "Skew:                           0.566   Prob(JB):                     4.29e-06\n",
      "Kurtosis:                       4.298   Cond. No.                         496.\n",
      "==============================================================================\n",
      "\n",
      "Notes:\n",
      "[1] Standard Errors assume that the covariance matrix of the errors is correctly specified.\n",
      "\n",
      "Largest p-value: 0.037662846526438316\n"
     ]
    }
   ],
   "source": [
    "# Remove feature with largest p-value (hotel_review_count) and run model again.  Repeat until all p-values are below the significance level (0.05).\n",
    "# We are left with 4 independent variables: 'hotel_review_count', 'hotel_rating','mean_poi_price','count_poi'.\n",
    "\n",
    "dependent_column = 'hotel_price'\n",
    "\n",
    "independent_columns = ['hotel_review_count',\n",
    "       'hotel_rating',\n",
    "       'mean_poi_price',\n",
    "       'count_poi']\n",
    "\n",
    "y = df_hotels_POIs[dependent_column]  # Dependent variable\n",
    "X = df_hotels_POIs[independent_columns]  # Independent variables\n",
    "\n",
    "# Add a constant term to the independent variables\n",
    "X = sm.add_constant(X)\n",
    "\n",
    "# Build the regression model\n",
    "model = sm.OLS(y, X)\n",
    "\n",
    "# Fit the regression model\n",
    "results = model.fit()\n",
    "\n",
    "# Print the results\n",
    "print(results.summary())\n",
    "print()\n",
    "print('Largest p-value: ' + str(results.pvalues.max()))"
   ]
  },
  {
   "cell_type": "markdown",
   "id": "c44cb9b5",
   "metadata": {},
   "source": [
    "# 3rd Linear Regression Model - Predicting Hotel Review Count (as a measure of popularity)"
   ]
  },
  {
   "cell_type": "code",
   "execution_count": 48,
   "id": "9dae7309",
   "metadata": {},
   "outputs": [
    {
     "name": "stdout",
     "output_type": "stream",
     "text": [
      "                            OLS Regression Results                            \n",
      "==============================================================================\n",
      "Dep. Variable:     hotel_review_count   R-squared:                       0.250\n",
      "Model:                            OLS   Adj. R-squared:                  0.214\n",
      "Method:                 Least Squares   F-statistic:                     7.037\n",
      "Date:                Fri, 14 Jul 2023   Prob (F-statistic):           9.20e-09\n",
      "Time:                        04:22:48   Log-Likelihood:                -1073.9\n",
      "No. Observations:                 200   AIC:                             2168.\n",
      "Df Residuals:                     190   BIC:                             2201.\n",
      "Df Model:                           9                                         \n",
      "Covariance Type:            nonrobust                                         \n",
      "=========================================================================================\n",
      "                            coef    std err          t      P>|t|      [0.025      0.975]\n",
      "-----------------------------------------------------------------------------------------\n",
      "const                  4560.9335   7473.198      0.610      0.542   -1.02e+04    1.93e+04\n",
      "hotel_price              35.9543      7.783      4.620      0.000      20.603      51.306\n",
      "hotel_rating             -2.0073      3.986     -0.504      0.615      -9.869       5.855\n",
      "hotel_distance            0.0003      0.001      0.333      0.739      -0.002       0.002\n",
      "hotel_latitude          -67.1701     86.876     -0.773      0.440    -238.536     104.195\n",
      "hotel_longitude          21.2560     62.369      0.341      0.734    -101.769     144.281\n",
      "mean_poi_price           -3.3503     11.903     -0.281      0.779     -26.829      20.129\n",
      "mean_poi_rating           4.5197      6.552      0.690      0.491      -8.404      17.443\n",
      "mean_poi_review_count    -0.0179      0.086     -0.207      0.836      -0.188       0.153\n",
      "count_poi                 1.3613      0.368      3.697      0.000       0.635       2.088\n",
      "==============================================================================\n",
      "Omnibus:                      160.663   Durbin-Watson:                   1.834\n",
      "Prob(Omnibus):                  0.000   Jarque-Bera (JB):             2191.504\n",
      "Skew:                           3.001   Prob(JB):                         0.00\n",
      "Kurtosis:                      18.065   Cond. No.                     1.92e+07\n",
      "==============================================================================\n",
      "\n",
      "Notes:\n",
      "[1] Standard Errors assume that the covariance matrix of the errors is correctly specified.\n",
      "[2] The condition number is large, 1.92e+07. This might indicate that there are\n",
      "strong multicollinearity or other numerical problems.\n",
      "\n",
      "Largest p-value: 0.8363202725583827\n"
     ]
    }
   ],
   "source": [
    "# Prepare the data for regression testing with 9 independent variables\n",
    "\n",
    "dependent_column = 'hotel_review_count'\n",
    "\n",
    "independent_columns = ['hotel_price',\n",
    "       'hotel_rating', 'hotel_distance', 'hotel_latitude',\n",
    "       'hotel_longitude',\n",
    "       'mean_poi_price', 'mean_poi_rating', 'mean_poi_review_count',\n",
    "       'count_poi']\n",
    "\n",
    "y = df_hotels_POIs[dependent_column]  # Dependent variable\n",
    "X = df_hotels_POIs[independent_columns]  # Independent variables\n",
    "\n",
    "# Add a constant term to the independent variables\n",
    "X = sm.add_constant(X)\n",
    "\n",
    "# Build the regression model\n",
    "model = sm.OLS(y, X)\n",
    "\n",
    "# Fit the regression model\n",
    "results = model.fit()\n",
    "\n",
    "# Print the results\n",
    "print(results.summary())\n",
    "print()\n",
    "print('Largest p-value: ' + str(results.pvalues.max()))"
   ]
  },
  {
   "cell_type": "code",
   "execution_count": 57,
   "id": "40d776f3",
   "metadata": {},
   "outputs": [
    {
     "name": "stdout",
     "output_type": "stream",
     "text": [
      "                            OLS Regression Results                            \n",
      "==============================================================================\n",
      "Dep. Variable:     hotel_review_count   R-squared:                       0.244\n",
      "Model:                            OLS   Adj. R-squared:                  0.236\n",
      "Method:                 Least Squares   F-statistic:                     31.73\n",
      "Date:                Fri, 14 Jul 2023   Prob (F-statistic):           1.14e-12\n",
      "Time:                        04:27:49   Log-Likelihood:                -1074.8\n",
      "No. Observations:                 200   AIC:                             2156.\n",
      "Df Residuals:                     197   BIC:                             2165.\n",
      "Df Model:                           2                                         \n",
      "Covariance Type:            nonrobust                                         \n",
      "===============================================================================\n",
      "                  coef    std err          t      P>|t|      [0.025      0.975]\n",
      "-------------------------------------------------------------------------------\n",
      "const         -54.7634     15.264     -3.588      0.000     -84.865     -24.662\n",
      "hotel_price    33.7119      7.090      4.755      0.000      19.729      47.695\n",
      "count_poi       1.4259      0.288      4.959      0.000       0.859       1.993\n",
      "==============================================================================\n",
      "Omnibus:                      162.508   Durbin-Watson:                   1.832\n",
      "Prob(Omnibus):                  0.000   Jarque-Bera (JB):             2263.206\n",
      "Skew:                           3.043   Prob(JB):                         0.00\n",
      "Kurtosis:                      18.315   Cond. No.                         85.8\n",
      "==============================================================================\n",
      "\n",
      "Notes:\n",
      "[1] Standard Errors assume that the covariance matrix of the errors is correctly specified.\n",
      "\n",
      "Largest p-value: 0.0004206897212752144\n"
     ]
    }
   ],
   "source": [
    "# Remove feature with largest p-value (hotel_review_count) and run model again.  Repeat until all p-values are below the significance level (0.05).\n",
    "# We are left with 2 independent variables: 'hotel_price' and 'count_poi'.\n",
    "\n",
    "dependent_column = 'hotel_review_count'\n",
    "\n",
    "independent_columns = ['hotel_price','count_poi']\n",
    "\n",
    "y = df_hotels_POIs[dependent_column]  # Dependent variable\n",
    "X = df_hotels_POIs[independent_columns]  # Independent variables\n",
    "\n",
    "# Add a constant term to the independent variables\n",
    "X = sm.add_constant(X)\n",
    "\n",
    "# Build the regression model\n",
    "model = sm.OLS(y, X)\n",
    "\n",
    "# Fit the regression model\n",
    "results = model.fit()\n",
    "\n",
    "# Print the results\n",
    "print(results.summary())\n",
    "print()\n",
    "print('Largest p-value: ' + str(results.pvalues.max()))"
   ]
  },
  {
   "cell_type": "markdown",
   "id": "c88da745",
   "metadata": {},
   "source": [
    "# Conclusions"
   ]
  },
  {
   "cell_type": "code",
   "execution_count": null,
   "id": "4ec24cb3",
   "metadata": {},
   "outputs": [],
   "source": [
    "\"\"\"\n",
    "The 3 models for hotel_price, hotel_rating, and hotel_review_count all have very small p-values and small R-squared values (less than 0.25).  This shows that there is definitely a relationship\n",
    "between the independent and dependent variables, but that there are also factors at play that have not been included in this analysis.  \n",
    "\n",
    "The next steps for this project would be to get better data on the hotel features (number of rooms, free internet, cleanliness, walkability score, etc.) to see if they could be used to \n",
    "build a model that better explains the variance in the dependent variable.\n",
    "\n",
    "\"\"\""
   ]
  }
 ],
 "metadata": {
  "kernelspec": {
   "display_name": "Python 3 (ipykernel)",
   "language": "python",
   "name": "python3"
  },
  "language_info": {
   "codemirror_mode": {
    "name": "ipython",
    "version": 3
   },
   "file_extension": ".py",
   "mimetype": "text/x-python",
   "name": "python",
   "nbconvert_exporter": "python",
   "pygments_lexer": "ipython3",
   "version": "3.9.16"
  }
 },
 "nbformat": 4,
 "nbformat_minor": 5
}
